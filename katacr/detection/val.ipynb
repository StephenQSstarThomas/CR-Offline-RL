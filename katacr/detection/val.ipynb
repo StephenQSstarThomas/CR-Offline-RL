{
 "cells": [
  {
   "cell_type": "code",
   "execution_count": null,
   "metadata": {},
   "outputs": [],
   "source": [
    "from PIL import Image\n",
    "import numpy as np\n",
    "import os, sys\n",
    "from pathlib import Path\n",
    "root_path = Path.cwd().parents[1]\n",
    "if str(root_path) not in sys.path:\n",
    "  sys.path.append(str(root_path))\n",
    "print(f\"{root_path=}\")"
   ]
  },
  {
   "cell_type": "code",
   "execution_count": null,
   "metadata": {},
   "outputs": [],
   "source": [
    "from katacr.detection.parser import get_args_and_writer\n",
    "from katacr.detection.model import get_state\n",
    "from katacr.utils.model_weights import load_weights\n",
    "\n",
    "# model_name = 'YOLOv5_v0.4.3_compact_box'\n",
    "model_name = 'YOLOv5_v0.4.3_back'\n",
    "# model_name = 'YOLOv5_v0.4.3'\n",
    "args = get_args_and_writer(no_writer=True, input_args=\"--num-unit 30\".split())\n",
    "args.model_name = model_name\n",
    "args.path_logs = root_path / \"logs\"\n",
    "path_debug = args.path_logs / \"debug\"\n",
    "args.path_cp = args.path_logs / (model_name + '-checkpoints')\n",
    "args.load_id = 80\n",
    "state_ok = load_weights(get_state(args), args)\n",
    "# args.load_id = 70\n",
    "# state_bad = load_weights(get_state(args, use_init=False), args)"
   ]
  },
  {
   "cell_type": "code",
   "execution_count": null,
   "metadata": {},
   "outputs": [],
   "source": [
    "%load_ext autoreload\n",
    "%autoreload 2\n",
    "# from katacr.detection.predict import Predictor\n",
    "from katacr.detection.predict import Predictor\n",
    "from katacr.utils.detection.data import show_box\n",
    "predict_ok = Predictor(args, state_ok)\n",
    "# predict_bad = Predictor(args, state_bad)"
   ]
  },
  {
   "cell_type": "code",
   "execution_count": null,
   "metadata": {},
   "outputs": [],
   "source": [
    "from katacr.detection.dataset_builder import DatasetBuilder\n",
    "args.batch_size = 1\n",
    "ds_builder = DatasetBuilder(args)\n",
    "train_ds = ds_builder.get_dataset(subset='train')\n",
    "val_ds = ds_builder.get_dataset(subset='val')\n",
    "# iter_ds = iter(train_ds)\n",
    "iter_ds = iter(val_ds)"
   ]
  },
  {
   "cell_type": "code",
   "execution_count": null,
   "metadata": {},
   "outputs": [],
   "source": [
    "x, tbox, tnum = next(iter_ds)\n",
    "x, tbox, tnum = x.numpy().astype(np.float32) / 255., tbox.numpy(), tnum.numpy()\n",
    "pbox = predict_ok.update(x, nms_conf=0.4, nms_iou=0.65)\n",
    "show_box(x[0], pbox[0], use_overlay=True, show_conf=True)\n",
    "# pbox = predict_bad.update(x, nms_conf=0.5, nms_iou=0.65)\n",
    "# show_box(x[0], pbox[0], use_overlay=True)"
   ]
  },
  {
   "cell_type": "code",
   "execution_count": null,
   "metadata": {},
   "outputs": [],
   "source": [
    "from tqdm import tqdm\n",
    "# Test\n",
    "from katacr.detection.dataset_builder import DatasetBuilder\n",
    "args.batch_size = 32\n",
    "args.repeat = 1\n",
    "ds_builder = DatasetBuilder(args)\n",
    "train_ds = ds_builder.get_dataset(subset='train')\n",
    "val_ds = ds_builder.get_dataset(subset='val')"
   ]
  },
  {
   "cell_type": "code",
   "execution_count": null,
   "metadata": {},
   "outputs": [],
   "source": [
    "predict_ok.reset()\n",
    "for x, tbox, tnum in tqdm(val_ds):\n",
    "  x, tbox, tnum = x.numpy().astype(np.float32) / 255.0, tbox.numpy(), tnum.numpy()\n",
    "  predict_ok.update(x, tbox, tnum)\n",
    "print(predict_ok.p_r_ap50_ap75_map())"
   ]
  },
  {
   "cell_type": "code",
   "execution_count": null,
   "metadata": {},
   "outputs": [],
   "source": [
    "# 12: 0.12977949105948913, 0.19215412920599756, 0.15634556500708421, 0.11553331942678603, 0.10764328207361266"
   ]
  }
 ],
 "metadata": {
  "kernelspec": {
   "display_name": "jax",
   "language": "python",
   "name": "python3"
  },
  "language_info": {
   "codemirror_mode": {
    "name": "ipython",
    "version": 3
   },
   "file_extension": ".py",
   "mimetype": "text/x-python",
   "name": "python",
   "nbconvert_exporter": "python",
   "pygments_lexer": "ipython3",
   "version": "3.11.5"
  },
  "orig_nbformat": 4
 },
 "nbformat": 4,
 "nbformat_minor": 2
}
